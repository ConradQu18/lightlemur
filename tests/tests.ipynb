{
 "cells": [
  {
   "cell_type": "code",
   "execution_count": 1,
   "metadata": {},
   "outputs": [],
   "source": [
    "import sys\n",
    "sys.path.append('../')\n",
    "import lemur"
   ]
  },
  {
   "cell_type": "code",
   "execution_count": 2,
   "metadata": {},
   "outputs": [],
   "source": [
    "a = lemur.tensor([i for i in range(1,9)], (1,1,2,2,2),  requires_grad=True)\n",
    "b = lemur.tensor([i for i in range(1+10,9+10)], (1,1,2,2,2),  requires_grad=True)\n",
    "dm = lemur.tensor([0,0,0,0,0])"
   ]
  },
  {
   "cell_type": "code",
   "execution_count": 10,
   "metadata": {},
   "outputs": [
    {
     "name": "stdout",
     "output_type": "stream",
     "text": [
      "call\n",
      "b shallow copied\n",
      "tensor @ 0x157ff6c40\n",
      "comes_from: [NULL expression]\n",
      "k:\n",
      "kernel_tensor @ 0x157fc7250 with length = 8 \n",
      "stride = [8, 8, 4, 2, 1]\n",
      "computed = false\n",
      "tensor([[[[[0.0000, 0.0000],[0.0000, 0.0000]],[[0.0000, 0.0000],[0.0000, 0.0000]]]]])\n",
      "shape = [1, 1, 2, 2, 2]\n",
      "grad:\n",
      "kernel_tensor @ 0x157f8c050 with length = 8 \n",
      "stride = [8, 8, 4, 2, 1]\n",
      "computed = false\n",
      "tensor([[[[[8922221.0000, 9733332.0000],[10544443.0000, 11355554.0000]],[[12166665.0000, 12977776.0000],[13788887.0000, 14599998.0000]]]]])\n",
      "shape = [1, 1, 2, 2, 2]\n",
      "\n",
      "a shallow copied\n",
      "a call\n"
     ]
    }
   ],
   "source": [
    "v = lemur.tensor([0,1,2,4,3])\n",
    "a_p = a.permute(v)\n",
    "print(a)\n"
   ]
  },
  {
   "cell_type": "code",
   "execution_count": 7,
   "metadata": {},
   "outputs": [
    {
     "name": "stdout",
     "output_type": "stream",
     "text": [
      "3.3 µs ± 22.8 ns per loop (mean ± std. dev. of 7 runs, 100,000 loops each)\n"
     ]
    }
   ],
   "source": [
    "%%timeit\n",
    "#v = lemur.tensor([0,1,2,4,3])\n",
    "#a_p = a.permute(v)\n",
    "c = b * a#a_p\n",
    "d = c.sum(dm)\n",
    "d.backward()"
   ]
  },
  {
   "cell_type": "code",
   "execution_count": 8,
   "metadata": {},
   "outputs": [],
   "source": [
    "import torch\n",
    "at = torch.tensor([[[[[1.0000, 2.0000],[3.0000, 4.0000]],[[5.0000, 6.0000],[7.0000, 8.0000]]]]],  requires_grad=True, dtype=float)\n",
    "bt = torch.tensor([[[[[11.0000, 12.0000],[13.0000, 14.0000]],[[15.0000, 16.0000],[17.0000, 18.0000]]]]],  requires_grad=True, dtype=float)"
   ]
  },
  {
   "cell_type": "code",
   "execution_count": 9,
   "metadata": {},
   "outputs": [
    {
     "name": "stdout",
     "output_type": "stream",
     "text": [
      "18.7 µs ± 2.35 µs per loop (mean ± std. dev. of 7 runs, 100,000 loops each)\n"
     ]
    }
   ],
   "source": [
    "%%timeit\n",
    "#at_p = at.permute([0,1,2,4,3])\n",
    "ct = bt * at#at_p\n",
    "dt = ct.sum()\n",
    "dt.backward()\n"
   ]
  },
  {
   "cell_type": "code",
   "execution_count": null,
   "metadata": {},
   "outputs": [],
   "source": []
  },
  {
   "cell_type": "code",
   "execution_count": null,
   "metadata": {},
   "outputs": [],
   "source": [
    "x = lemur.tensor([i for i in range(1,33)], (2,2,2,2,2),  requires_grad=True)\n",
    "y = x.sum(lemur.tensor([0,0,0,0,0]))\n",
    "y"
   ]
  },
  {
   "cell_type": "code",
   "execution_count": null,
   "metadata": {},
   "outputs": [],
   "source": [
    "y.backward()"
   ]
  },
  {
   "cell_type": "code",
   "execution_count": null,
   "metadata": {},
   "outputs": [],
   "source": [
    "x = lemur.tensor([1.0], requires_grad=True)\n",
    "y = lemur.tensor([4.0], requires_grad=True)\n",
    "\n",
    "z = x + y  \n",
    "w = z * x  \n",
    "w = w.relu() \n",
    "\n",
    "w.backward() \n",
    "print(\"Result from main:\", w)"
   ]
  },
  {
   "cell_type": "code",
   "execution_count": 36,
   "metadata": {},
   "outputs": [],
   "source": [
    "shape = [1,1,1,1,10]"
   ]
  },
  {
   "cell_type": "code",
   "execution_count": null,
   "metadata": {},
   "outputs": [],
   "source": [
    "%%timeit\n",
    "x = lemur.LemurTensor(shape=shape, requires_grad=False)\n",
    "y = lemur.LemurTensor(shape=shape, requires_grad=False)\n",
    "x + y  "
   ]
  },
  {
   "cell_type": "code",
   "execution_count": 3,
   "metadata": {},
   "outputs": [],
   "source": [
    "import torch "
   ]
  },
  {
   "cell_type": "code",
   "execution_count": null,
   "metadata": {},
   "outputs": [],
   "source": [
    "%%timeit\n",
    "x = torch.empty(shape)\n",
    "y = torch.empty(shape)\n",
    "x + y  "
   ]
  },
  {
   "cell_type": "code",
   "execution_count": null,
   "metadata": {},
   "outputs": [],
   "source": [
    "t0 = torch.tensor([10.], requires_grad=True)\n",
    "t1 = torch.tensor([12.], requires_grad=True)\n",
    "t2 = torch.tensor([-15.], requires_grad=True)\n",
    "t4 = t0 * t1 + t2\n",
    "t4\n"
   ]
  },
  {
   "cell_type": "code",
   "execution_count": 12,
   "metadata": {},
   "outputs": [],
   "source": [
    "t4.backward()"
   ]
  },
  {
   "cell_type": "code",
   "execution_count": null,
   "metadata": {},
   "outputs": [],
   "source": [
    "t0.grad, t1.grad, t2.grad"
   ]
  },
  {
   "cell_type": "code",
   "execution_count": null,
   "metadata": {},
   "outputs": [],
   "source": [
    "a = lemur.tensor([[10.,12.],[-1.,-4.]], requires_grad = True)\n",
    "b = lemur.rand_like(a)\n",
    "c = (a @ b).mean()\n",
    "c.backward()\n",
    "a.grad"
   ]
  },
  {
   "cell_type": "code",
   "execution_count": null,
   "metadata": {},
   "outputs": [],
   "source": [
    "c"
   ]
  },
  {
   "cell_type": "code",
   "execution_count": null,
   "metadata": {},
   "outputs": [],
   "source": [
    "a = lemur.tensor([...], requires_grad = True)\n",
    "b = lemur.tensor([...], requires_grad = True)\n",
    "c = (a + b).relu()"
   ]
  },
  {
   "cell_type": "code",
   "execution_count": null,
   "metadata": {},
   "outputs": [],
   "source": [
    "x = torch.tensor([[1], [2], [3]])\n",
    "x.size(), x.stride()"
   ]
  },
  {
   "cell_type": "code",
   "execution_count": null,
   "metadata": {},
   "outputs": [],
   "source": [
    "x.expand(3, 4)\n"
   ]
  },
  {
   "cell_type": "code",
   "execution_count": null,
   "metadata": {},
   "outputs": [],
   "source": [
    "x.retain_grad()\n",
    "x.grad"
   ]
  },
  {
   "cell_type": "code",
   "execution_count": null,
   "metadata": {},
   "outputs": [],
   "source": []
  },
  {
   "cell_type": "code",
   "execution_count": null,
   "metadata": {},
   "outputs": [],
   "source": [
    "x = torch.tensor([[1],[2]]).expand((2,10))\n",
    "x.shape, x.stride()"
   ]
  },
  {
   "cell_type": "code",
   "execution_count": null,
   "metadata": {},
   "outputs": [],
   "source": [
    "y = x.reshape(20)"
   ]
  },
  {
   "cell_type": "code",
   "execution_count": null,
   "metadata": {},
   "outputs": [],
   "source": [
    "y.shape, y.stride"
   ]
  },
  {
   "cell_type": "code",
   "execution_count": null,
   "metadata": {},
   "outputs": [],
   "source": [
    "x = torch.tensor([[10.]]).expand(1,10)\n",
    "x.requires_grad = True\n",
    "x.stride()"
   ]
  },
  {
   "cell_type": "code",
   "execution_count": null,
   "metadata": {},
   "outputs": [],
   "source": [
    "x.sum().backward()\n",
    "x.grad.stride()"
   ]
  },
  {
   "cell_type": "code",
   "execution_count": 99,
   "metadata": {},
   "outputs": [],
   "source": [
    "x = torch.rand((3,4)).t() #(1,4)\n",
    "x.requires_grad = True\n"
   ]
  },
  {
   "cell_type": "code",
   "execution_count": 100,
   "metadata": {},
   "outputs": [],
   "source": [
    "x.sum().backward()"
   ]
  },
  {
   "cell_type": "code",
   "execution_count": null,
   "metadata": {},
   "outputs": [],
   "source": [
    "x.grad.stride()"
   ]
  },
  {
   "cell_type": "code",
   "execution_count": 83,
   "metadata": {},
   "outputs": [],
   "source": [
    "float arr[27]\n",
    "shape (3,3,3) \n",
    "stride (9,3,1)"
   ]
  },
  {
   "cell_type": "code",
   "execution_count": null,
   "metadata": {},
   "outputs": [],
   "source": [
    "t0 -> 1,1 \n",
    "   -> length = 1\n",
    "\n",
    "t1 -> 1,10 \n",
    "   -> length = 1   \n",
    "   -> comesfrom -> t0, expand, 1 10\n",
    "\n",
    "\n",
    "\n",
    "\n"
   ]
  },
  {
   "cell_type": "code",
   "execution_count": null,
   "metadata": {},
   "outputs": [],
   "source": [
    "x.stride()"
   ]
  },
  {
   "cell_type": "code",
   "execution_count": 3,
   "metadata": {},
   "outputs": [],
   "source": [
    "import torch"
   ]
  },
  {
   "cell_type": "code",
   "execution_count": null,
   "metadata": {},
   "outputs": [],
   "source": [
    "x = torch.randn((3,1), requires_grad=True)\n",
    "x2 = torch.randn((3,1), requires_grad=True)\n",
    "\n",
    "x.stride()"
   ]
  },
  {
   "cell_type": "code",
   "execution_count": null,
   "metadata": {},
   "outputs": [],
   "source": [
    "y = (x*x2).expand(3,4)\n",
    "y.stride()"
   ]
  },
  {
   "cell_type": "code",
   "execution_count": 154,
   "metadata": {},
   "outputs": [],
   "source": [
    "y.sum().backward()"
   ]
  },
  {
   "cell_type": "code",
   "execution_count": null,
   "metadata": {},
   "outputs": [],
   "source": [
    "x.grad, x2*4"
   ]
  },
  {
   "cell_type": "code",
   "execution_count": null,
   "metadata": {},
   "outputs": [],
   "source": [
    "torch.empty((1,2,3,4,5)).permute(1,2,3,4,0).stride()\n"
   ]
  },
  {
   "cell_type": "code",
   "execution_count": null,
   "metadata": {},
   "outputs": [],
   "source": [
    "x = torch.tensor([[1]]).expand(1,10)\n",
    "x.stride()\n"
   ]
  },
  {
   "cell_type": "code",
   "execution_count": null,
   "metadata": {},
   "outputs": [],
   "source": [
    "y = x.relu()\n",
    "y.stride()"
   ]
  },
  {
   "cell_type": "code",
   "execution_count": null,
   "metadata": {},
   "outputs": [],
   "source": [
    "x"
   ]
  },
  {
   "cell_type": "code",
   "execution_count": null,
   "metadata": {},
   "outputs": [],
   "source": [
    "x = torch.tensor([[0.,0.]]).permute(1,0)\n",
    "x.requires_grad = True\n",
    "x, x.stride(), x.is_contiguous()\n"
   ]
  },
  {
   "cell_type": "code",
   "execution_count": 217,
   "metadata": {},
   "outputs": [],
   "source": [
    "x.sum().backward()"
   ]
  },
  {
   "cell_type": "code",
   "execution_count": null,
   "metadata": {},
   "outputs": [],
   "source": [
    "x.grad.stride(), x.stride()"
   ]
  },
  {
   "cell_type": "code",
   "execution_count": null,
   "metadata": {},
   "outputs": [],
   "source": [
    "x.is_contiguous()"
   ]
  },
  {
   "cell_type": "code",
   "execution_count": null,
   "metadata": {},
   "outputs": [],
   "source": [
    "x.contiguous().stride()"
   ]
  },
  {
   "cell_type": "code",
   "execution_count": null,
   "metadata": {},
   "outputs": [],
   "source": [
    "a = torch.arange(8).view(1,4,2)\n",
    "a.stride()"
   ]
  },
  {
   "cell_type": "code",
   "execution_count": null,
   "metadata": {},
   "outputs": [],
   "source": [
    "a.permute(1,0).is_contiguous()"
   ]
  },
  {
   "cell_type": "code",
   "execution_count": null,
   "metadata": {},
   "outputs": [],
   "source": [
    "a = torch.arange(1,33, dtype=float, requires_grad=True)\n",
    "a.view(2,2,2,2,2).sum().backward()\n",
    "a.grad"
   ]
  },
  {
   "cell_type": "code",
   "execution_count": null,
   "metadata": {},
   "outputs": [],
   "source": [
    "x = lemur.tensor([i for i in range(1,33)], (2,2,2,2,2),  requires_grad=True)\n",
    "y = x.sum(lemur.tensor([0,0,0,0,0]))\n",
    "y\n"
   ]
  },
  {
   "cell_type": "code",
   "execution_count": null,
   "metadata": {},
   "outputs": [],
   "source": [
    "y.backward()"
   ]
  },
  {
   "cell_type": "code",
   "execution_count": null,
   "metadata": {},
   "outputs": [],
   "source": [
    "x"
   ]
  },
  {
   "cell_type": "code",
   "execution_count": null,
   "metadata": {},
   "outputs": [],
   "source": [
    "a.sum(0,keepdim=True).sum(1,keepdim=True).sum(2,keepdim=True).sum(3,keepdim=True)\n"
   ]
  },
  {
   "cell_type": "code",
   "execution_count": null,
   "metadata": {},
   "outputs": [],
   "source": [
    "a.sum(0,keepdim=True).sum(1,keepdim=True).sum(3,keepdim=True).sum(4,keepdim=True)"
   ]
  },
  {
   "cell_type": "code",
   "execution_count": null,
   "metadata": {},
   "outputs": [],
   "source": [
    "(2,2,2,2,2) -> (1,2,2,2,1)"
   ]
  },
  {
   "cell_type": "code",
   "execution_count": 43,
   "metadata": {},
   "outputs": [],
   "source": [
    "s = (5,5,50,5,5)\n",
    "a_t = torch.empty(s)\n",
    "a_l = lemur.LemurTensor(shape=s, requires_grad=False)\n",
    "\n"
   ]
  },
  {
   "cell_type": "code",
   "execution_count": null,
   "metadata": {},
   "outputs": [],
   "source": [
    "%%timeit\n",
    "b = a_t.sum(0,keepdim=True).sum(1,keepdim=True).sum(2,keepdim=True).sum(3,keepdim=True)"
   ]
  },
  {
   "cell_type": "code",
   "execution_count": null,
   "metadata": {},
   "outputs": [],
   "source": [
    "%%timeit\n",
    "b = a_l.sum(lemur.tensor([0,0,0,0,0])) "
   ]
  },
  {
   "cell_type": "code",
   "execution_count": null,
   "metadata": {},
   "outputs": [],
   "source": [
    "import torch\n",
    "torch.tensor([1,2]).expand(10)"
   ]
  },
  {
   "cell_type": "code",
   "execution_count": null,
   "metadata": {},
   "outputs": [],
   "source": []
  }
 ],
 "metadata": {
  "kernelspec": {
   "display_name": "Python 3 (ipykernel)",
   "language": "python",
   "name": "python3"
  },
  "language_info": {
   "codemirror_mode": {
    "name": "ipython",
    "version": 3
   },
   "file_extension": ".py",
   "mimetype": "text/x-python",
   "name": "python",
   "nbconvert_exporter": "python",
   "pygments_lexer": "ipython3",
   "version": "3.13.1"
  }
 },
 "nbformat": 4,
 "nbformat_minor": 4
}
