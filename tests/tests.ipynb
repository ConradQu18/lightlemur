{
 "cells": [
  {
   "cell_type": "code",
   "execution_count": 1,
   "metadata": {},
   "outputs": [],
   "source": [
    "import sys\n",
    "sys.path.append('../')\n",
    "import lemur"
   ]
  },
  {
   "cell_type": "code",

   "metadata": {},
   "outputs": [],
   "source": [
    "a = lemur.linspace(start=0, end=1, steps=20, requires_grad=True)"
   ]
  },
  {
   "cell_type": "code",
   "execution_count": null,
   "metadata": {},
   "outputs": [
    {
     "ename": "",
     "evalue": "",
     "output_type": "error",
     "traceback": [
      "\u001b[1;31mThe Kernel crashed while executing code in the current cell or a previous cell. \n",
      "\u001b[1;31mPlease review the code in the cell(s) to identify a possible cause of the failure. \n",
      "\u001b[1;31mClick <a href='https://aka.ms/vscodeJupyterKernelCrash'>here</a> for more info. \n",
      "\u001b[1;31mView Jupyter <a href='command:jupyter.viewOutput'>log</a> for further details."
     ]
    }
   ],
   "source": [
    "b = a.view(lemur.tensor([1,1,2,2,5])).permute(lemur.tensor([0,1,4,2,3])).sigmoid()\n",
    "#c = b.sum(lemur.tensor([0,0,0,0,0]))\n",
    "#c.backward()\n"
   ]
  },
  {
   "cell_type": "code",
   "execution_count": 11,
   "metadata": {},
   "outputs": [
    {
     "name": "stdout",
     "output_type": "stream",
     "text": [
      "tensor([[[[[0.2500, 0.2498, 0.2493, 0.2484, 0.2473, 0.2457, 0.2439, 0.2417, 0.2392, 0.2365, 0.2335, 0.2302, 0.2266, 0.2229, 0.2189, 0.2148, 0.2104, 0.2060, 0.2013, 0.1966]]]]], shape=[1, 1, 1, 1, 20])\n"
     ]
    }
   ],
   "source": [
    "a.grad"
   ]
  },
  {
   "cell_type": "code",
   "execution_count": 3,
   "metadata": {},
   "outputs": [
    {
     "name": "stdout",
     "output_type": "stream",
     "text": [
      "tensor([[[[[0.2500, 0.2498, 0.2493, 0.2484, 0.2473, 0.2457, 0.2439, 0.2417, 0.2392, 0.2365, 0.2335, 0.2302, 0.2266, 0.2229, 0.2189, 0.2148, 0.2104, 0.2060, 0.2013, 0.1966]]]]], shape=[1, 1, 1, 1, 20])\n"
     ]
    }
   ],
   "source": [
    "lemur.set_sci_print(False)\n",
    "a.grad"
   ]
  },
  {
   "cell_type": "code",
   "execution_count": 14,
   "metadata": {},
   "outputs": [],
   "source": [
    "import torch\n",
    "a = torch.linspace(start=0, end=1, steps=20, requires_grad=True)"
   ]
  },
  {
   "cell_type": "code",
   "execution_count": 15,
   "metadata": {},
   "outputs": [
    {
     "name": "stdout",
     "output_type": "stream",
     "text": [
      "24.6 µs ± 846 ns per loop (mean ± std. dev. of 7 runs, 10,000 loops each)\n"
     ]
    }
   ],
   "source": [
    "%%timeit\n",
    "b = a.view(1,1,2,2,5).permute([0,1,4,2,3]).sigmoid()\n",
    "c = b.sum()\n",
    "c.backward()"
   ]
  },
  {
   "cell_type": "code",
   "execution_count": 12,
   "metadata": {},
   "outputs": [],
   "source": [
    "a = lemur.linspace(-1,1, 10, requires_grad=True)\n",
    "b = a.sigmoid().sigmoid()\n",
    "c = b.sum(lemur.tensor([0,0,0,0,0]))\n",
    "c.backward()"
   ]
  },
  {
   "cell_type": "code",
   "execution_count": 13,
   "metadata": {},
   "outputs": [
    {
     "name": "stdout",
     "output_type": "stream",
     "text": [
      "self\n",
      "└── LemurTensor @ 0x11711eb60 (shape=[1, 1, 1, 1, 1])\n",
      "    └── [sum]\n",
      "        ├── LemurTensor @ 0x105823f30 (shape=[1, 1, 1, 1, 10])\n",
      "        │   └── [sigmoid]\n",
      "        │       └── LemurTensor @ 0x107bad330 (shape=[1, 1, 1, 1, 10])\n",
      "        │           └── [sigmoid]\n",
      "        │               └── LemurTensor @ 0x105819530 (shape=[1, 1, 1, 1, 10])\n",
      "        └── LemurTensor @ 0x11711e7e0 (shape=[1, 1, 1, 1, 5])\n"
     ]
    }
   ],
   "source": [
    "c.graph"
   ]
  },
  {
   "cell_type": "code",
   "execution_count": 11,
   "metadata": {},
   "outputs": [
    {
     "data": {
      "text/plain": [
       "tensor([0.0483, 0.0526, 0.0560, 0.0582, 0.0590, 0.0582, 0.0559, 0.0524, 0.0481,\n",
       "        0.0431])"
      ]
     },
     "execution_count": 11,
     "metadata": {},
     "output_type": "execute_result"
    }
   ],
   "source": [
    "import torch\n",
    "a = torch.linspace(-1,1, 10, requires_grad=True)\n",
    "b = a.sigmoid().sigmoid()\n",
    "c = b.sum()\n",
    "c.backward()\n",
    "a.grad"
   ]
  },
  {
   "cell_type": "code",
   "execution_count": null,
   "metadata": {},
   "outputs": [],
   "source": []
  },
  {
   "cell_type": "code",
   "execution_count": 5,
   "metadata": {},
   "outputs": [
    {
     "data": {
      "text/plain": [
       "tensor([[[[[100.00]]]],\n",
       "\n",
       "\n",
       "\n",
       "\t[[[[100.00]]]]], shape=[2, 1, 1, 1, 1])"
      ]
     },
     "execution_count": 5,
     "metadata": {},
     "output_type": "execute_result"
    }
   ],
   "source": [
    "a = lemur.full((2,1,1,1,1),100.0, requires_grad=True)\n",
    "a"
   ]
  },
  {
   "cell_type": "code",
   "execution_count": null,
   "metadata": {},
   "outputs": [],
   "source": []
  },
  {
   "cell_type": "code",
   "execution_count": 7,
   "metadata": {},
   "outputs": [
    {
     "data": {
      "text/plain": [
       "tensor @ 0x14478dab0\n",
       "comes_from: [NULL expression]\n",
       "k:\n",
       "kernel_tensor @ 0x1150c2f80 with length = 4 \n",
       "stride = [4, 4, 4, 4, 1]\n",
       "computed = false\n",
       "shallow = false\n",
       "tensor([[[[[0.00e+00, 1.00e+00, 2.00e+00, 3.00e+00]]]]])\n",
       "shape = [1, 1, 1, 1, 4]\n",
       "grad:\n",
       "kernel_tensor @ 0x1147f4ba0 with length = 4 \n",
       "stride = [4, 4, 4, 4, 1]\n",
       "computed = false\n",
       "shallow = false\n",
       "tensor([[[[[0.00e+00, 0.00e+00, 0.00e+00, 0.00e+00]]]]])\n",
       "shape = [1, 1, 1, 1, 4]"
      ]
     },
     "execution_count": 7,
     "metadata": {},
     "output_type": "execute_result"
    }
   ],
   "source": [
    "lemur.LEMUR_SCI_PRINT = False\n",
    "a"
   ]
  },
  {
   "cell_type": "code",
   "execution_count": 3,
   "metadata": {},
   "outputs": [
    {
     "data": {
      "text/plain": [
       "tensor @ 0x139fcf5c0\n",
       "comes_from: [NULL expression]\n",
       "k:\n",
       "kernel_tensor @ 0x139fd6670 with length = 1 \n",
       "stride = [1, 1, 1, 1, 1]\n",
       "computed = false\n",
       "shallow = false\n",
       "tensor([[[[[1.00e+02]]]]])\n",
       "shape = [1, 1, 1, 1, 1]\n",
       "grad:\n",
       "[NULL kernel_tensor]"
      ]
     },
     "execution_count": 3,
     "metadata": {},
     "output_type": "execute_result"
    }
   ],
   "source": [
    "lemur.full((1,1,1,1,1),100.0)"
   ]
  },
  {
   "cell_type": "code",
   "execution_count": null,
   "metadata": {},
   "outputs": [],
   "source": [
    "b = a.view(lemur.tensor([1,1,1,2,2]))\n",
    "c = b.permute(lemur.tensor([0,1,2,4,3])).sigmoid()\n",
    "d = c.sum(lemur.tensor([0,0,0,0,0]))\n",
    "d.backward()\n"
   ]
  },
  {
   "cell_type": "code",
   "execution_count": 4,
   "metadata": {},
   "outputs": [
    {
     "name": "stdout",
     "output_type": "stream",
     "text": [
      "└── LemurTensor @ 0x13e16cc50 \n",
      "    └── [sum]\n",
      "        ├── LemurTensor @ 0x13e135d20 (shape=[4, 2, 4])\n",
      "        │   └── [sigmoid]\n",
      "        │       └── LemurTensor @ 0x13e13a960 (shape=[4, 2, 4])\n",
      "        │           └── [permute]\n",
      "        │               ├── LemurTensor @ 0x13c6a1c10 (shape=[2, 4, 4])\n",
      "        │               │   └── [view]\n",
      "        │               │       ├── LemurTensor @ 0x13e15d950 (shape=[32])\n",
      "        │               │       └── LemurTensor @ 0x13c69fe00 (shape=[5])\n",
      "        │               └── LemurTensor @ 0x13e152480 (shape=[5])\n",
      "        └── LemurTensor @ 0x13e1231c0 (shape=[5])\n"
     ]
    }
   ],
   "source": [
    "print(d.graph())"
   ]
  },
  {
   "cell_type": "code",
   "execution_count": 4,
   "metadata": {},
   "outputs": [
    {
     "data": {
      "text/plain": [
       "tensor @ 0x13a052840\n",
       "comes_from: [NULL expression]\n",
       "k:\n",
       "kernel_tensor @ 0x11941f600 with length = 4 \n",
       "stride = [4, 4, 4, 4, 1]\n",
       "computed = false\n",
       "shallow = false\n",
       "tensor([[[[[0.00e+00, 1.00e+00, 2.00e+00, 3.00e+00]]]]])\n",
       "shape = [1, 1, 1, 1, 4]\n",
       "grad:\n",
       "kernel_tensor @ 0x13a042db0 with length = 4 \n",
       "stride = [4, 4, 4, 4, 1]\n",
       "computed = false\n",
       "shallow = false\n",
       "tensor([[[[[2.50e-01, 1.97e-01, 1.05e-01, 4.52e-02]]]]])\n",
       "shape = [1, 1, 1, 1, 4]"
      ]
     },
     "execution_count": 4,
     "metadata": {},
     "output_type": "execute_result"
    }
   ],
   "source": [
    "a"
   ]
  },
  {
   "cell_type": "code",
   "execution_count": 31,
   "metadata": {},
   "outputs": [],
   "source": [
    "import torch"
   ]
  },
  {
   "cell_type": "code",
   "execution_count": 44,
   "metadata": {},
   "outputs": [
    {
     "data": {
      "text/plain": [
       "tensor([0.2500, 0.1966, 0.1050, 0.0452])"
      ]
     },
     "execution_count": 44,
     "metadata": {},
     "output_type": "execute_result"
    }
   ],
   "source": [
    "a = torch.arange(4., requires_grad=True, dtype=torch.float32)\n",
    "b = a.view(1,1,1,2,2).permute(0,1,2,4,3)\n",
    "c = b.sigmoid()\n",
    "d = c.sum()\n",
    "d.backward()\n",
    "a.grad"
   ]
  },
  {
   "cell_type": "code",
   "execution_count": 46,
   "metadata": {},
   "outputs": [
    {
     "data": {
      "text/plain": [
       "tensor([[[[[0.2500, 0.1966],\n",
       "           [0.1050, 0.0452]]]]])"
      ]
     },
     "execution_count": 46,
     "metadata": {},
     "output_type": "execute_result"
    }
   ],
   "source": [
    "#a = torch.arange(32., requires_grad=True, dtype=torch.float32)\n",
    "a = torch.tensor([[[[[0.,1],[2,3]]]]], requires_grad=True)\n",
    "b = a.view(1,1,1,2,2).permute(0,1,2,4,3)\n",
    "c = b.sigmoid()\n",
    "d = c.sum()\n",
    "d.backward()\n",
    "a.grad"
   ]
  },
  {
   "cell_type": "code",
   "execution_count": 11,
   "metadata": {},
   "outputs": [
    {
     "ename": "NameError",
     "evalue": "name 'tensor' is not defined",
     "output_type": "error",
     "traceback": [
      "\u001b[0;31m---------------------------------------------------------------------------\u001b[0m",
      "\u001b[0;31mNameError\u001b[0m                                 Traceback (most recent call last)",
      "Cell \u001b[0;32mIn[11], line 1\u001b[0m\n\u001b[0;32m----> 1\u001b[0m \u001b[43mtensor\u001b[49m([\u001b[38;5;241m2.5000e-01\u001b[39m, \u001b[38;5;241m1.9661e-01\u001b[39m, \u001b[38;5;241m1.0499e-01\u001b[39m, \u001b[38;5;241m4.5177e-02\u001b[39m, \u001b[38;5;241m1.7663e-02\u001b[39m, \u001b[38;5;241m6.6480e-03\u001b[39m,\n\u001b[1;32m      2\u001b[0m         \u001b[38;5;241m2.4665e-03\u001b[39m, \u001b[38;5;241m9.1017e-04\u001b[39m, \u001b[38;5;241m3.3522e-04\u001b[39m, \u001b[38;5;241m1.2337e-04\u001b[39m, \u001b[38;5;241m4.5417e-05\u001b[39m, \u001b[38;5;241m1.6689e-05\u001b[39m,\n\u001b[1;32m      3\u001b[0m         \u001b[38;5;241m6.1988e-06\u001b[39m, \u001b[38;5;241m2.2650e-06\u001b[39m, \u001b[38;5;241m8.3446e-07\u001b[39m, \u001b[38;5;241m3.5763e-07\u001b[39m, \u001b[38;5;241m1.1921e-07\u001b[39m, \u001b[38;5;241m0.0000e+00\u001b[39m,\n\u001b[1;32m      4\u001b[0m         \u001b[38;5;241m0.0000e+00\u001b[39m, \u001b[38;5;241m0.0000e+00\u001b[39m, \u001b[38;5;241m0.0000e+00\u001b[39m, \u001b[38;5;241m0.0000e+00\u001b[39m, \u001b[38;5;241m0.0000e+00\u001b[39m, \u001b[38;5;241m0.0000e+00\u001b[39m,\n\u001b[1;32m      5\u001b[0m         \u001b[38;5;241m0.0000e+00\u001b[39m, \u001b[38;5;241m0.0000e+00\u001b[39m, \u001b[38;5;241m0.0000e+00\u001b[39m, \u001b[38;5;241m0.0000e+00\u001b[39m, \u001b[38;5;241m0.0000e+00\u001b[39m, \u001b[38;5;241m0.0000e+00\u001b[39m,\n\u001b[1;32m      6\u001b[0m         \u001b[38;5;241m0.0000e+00\u001b[39m, \u001b[38;5;241m0.0000e+00\u001b[39m])\n",
      "\u001b[0;31mNameError\u001b[0m: name 'tensor' is not defined"
     ]
    }
   ],
   "source": [
    "tensor([2.5000e-01, 1.9661e-01, 1.0499e-01, 4.5177e-02, 1.7663e-02, 6.6480e-03,\n",
    "        2.4665e-03, 9.1017e-04, 3.3522e-04, 1.2337e-04, 4.5417e-05, 1.6689e-05,\n",
    "        6.1988e-06, 2.2650e-06, 8.3446e-07, 3.5763e-07, 1.1921e-07, 0.0000e+00,\n",
    "        0.0000e+00, 0.0000e+00, 0.0000e+00, 0.0000e+00, 0.0000e+00, 0.0000e+00,\n",
    "        0.0000e+00, 0.0000e+00, 0.0000e+00, 0.0000e+00, 0.0000e+00, 0.0000e+00,\n",
    "        0.0000e+00, 0.0000e+00])"
   ]
  },
  {
   "cell_type": "code",
   "execution_count": 7,
   "metadata": {},
   "outputs": [],
   "source": [
    "a = lemur.LemurTensor(s, requires_grad=True)\n",
    "b = lemur.LemurTensor(s, requires_grad=True)\n",
    "c = lemur.LemurTensor(s)\n",
    "r = lemur.tensor((0,0,0,0,0))"
   ]
  },
  {
   "cell_type": "code",
   "execution_count": null,
   "metadata": {},
   "outputs": [],
   "source": [
    "lemur.tensor((0,0.5,0,0,100))"
   ]
  },
  {
   "cell_type": "code",
   "execution_count": null,
   "metadata": {},
   "outputs": [],
   "source": [
    "d = (a * b) + c\n",
    "e = (d * d) + d\n",
    "f = d + e\n",
    "g = f.sum(r) \n",
    "print(g.graph())"
   ]
  },
  {
   "cell_type": "code",
   "execution_count": 7,
   "metadata": {},
   "outputs": [],
   "source": [
    "#%%timeit\n",
    "d = (a * b) + c\n",
    "e = (d * d) + d\n",
    "f = a + b + c + d + e\n",
    "g = f.sum(r) #fwd takes 5ms\n",
    "g.backward() #backward takes 15ms"
   ]
  },
  {
   "cell_type": "code",
   "execution_count": 5,
   "metadata": {},
   "outputs": [],
   "source": [
    "#d.graph()"
   ]
  },
  {
   "cell_type": "code",
   "execution_count": 15,
   "metadata": {},
   "outputs": [],
   "source": [
    "import torch"
   ]
  },
  {
   "cell_type": "code",
   "execution_count": null,
   "metadata": {},
   "outputs": [],
   "source": [
    "at = torch.arange(32., requires_grad=True)\n",
    "a = at.view(2,4,4)\n",
    "a.sum().backward()\n",
    "at.grad\n"
   ]
  },
  {
   "cell_type": "code",
   "execution_count": null,
   "metadata": {},
   "outputs": [],
   "source": [
    "at = torch.empty(s, requires_grad=True)\n",
    "bt = torch.empty(s, requires_grad=True)\n",
    "ct = torch.empty(s)\n"
   ]
  },
  {
   "cell_type": "code",
   "execution_count": null,
   "metadata": {},
   "outputs": [],
   "source": [
    "%%timeit\n",
    "dt = (at * bt) + ct\n",
    "et = (dt * dt) + dt\n",
    "ft = at + bt + ct + dt + et\n",
    "gt = ft.sum() #fw 3ms\n",
    "gt.backward() #backward 5ms"
   ]
  },
  {
   "cell_type": "code",
   "execution_count": null,
   "metadata": {},
   "outputs": [],
   "source": [
    "a = lemur.tensor([i for i in range(1,9)], (1,1,2,2,2),  requires_grad=True)\n",
    "b = lemur.tensor([i for i in range(1+10,9+10)], (1,1,2,2,2),  requires_grad=True)\n",
    "dm = lemur.tensor([0,0,0,0,0])\n",
    "v = lemur.tensor([0,1,2,4,3])\n",
    "a_p = a.permute(v)\n"
   ]
  },
  {
   "cell_type": "code",
   "execution_count": null,
   "metadata": {},
   "outputs": [],
   "source": [
    "%%timeit\n",
    "c = b * a_p\n",
    "d = c.sum(dm)\n",
    "d.backward()\n"
   ]
  },
  {
   "cell_type": "code",
   "execution_count": null,
   "metadata": {},
   "outputs": [],
   "source": [
    "a = lemur.tensor([i for i in range(1,9)], (1,1,2,2,2),  requires_grad=True)\n",
    "b = lemur.tensor([i for i in range(1+10,9+10)], (1,1,2,2,2),  requires_grad=True)\n",
    "dm = lemur.tensor([0,0,0,0,0])\n",
    "v = lemur.tensor([0,1,2,4,3])\n",
    "a_p = a.permute(v)\n"
   ]
  },
  {
   "cell_type": "code",
   "execution_count": null,
   "metadata": {},
   "outputs": [],
   "source": [
    "a_p = a.permute(v)\n",
    "print(a)\n"
   ]
  },
  {
   "cell_type": "code",
   "execution_count": null,
   "metadata": {},
   "outputs": [],
   "source": []
  },
  {
   "cell_type": "code",
   "execution_count": null,
   "metadata": {},
   "outputs": [],
   "source": [
    "%%timeit\n",
    "at.permute(0,1,2,4,3).contiguous()"
   ]
  },
  {
   "cell_type": "code",
   "execution_count": 4,
   "metadata": {},
   "outputs": [],
   "source": [
    "import torch\n",
    "at = torch.tensor([[[[[1.0000, 2.0000],[3.0000, 4.0000]],[[5.0000, 6.0000],[7.0000, 8.0000]]]]],  requires_grad=True, dtype=float)\n",
    "bt = torch.tensor([[[[[11.0000, 12.0000],[13.0000, 14.0000]],[[15.0000, 16.0000],[17.0000, 18.0000]]]]],  requires_grad=True, dtype=float)\n",
    "at_p = at.permute([0,1,2,4,3])\n"
   ]
  },
  {
   "cell_type": "code",
   "execution_count": null,
   "metadata": {},
   "outputs": [],
   "source": [
    "%%timeit\n",
    "ct = bt * at_p\n",
    "dt = ct.sum()\n",
    "dt.backward(retain_graph=True)\n"
   ]
  },
  {
   "cell_type": "code",
   "execution_count": null,
   "metadata": {},
   "outputs": [],
   "source": [
    "bt.grad"
   ]
  },
  {
   "cell_type": "code",
   "execution_count": null,
   "metadata": {},
   "outputs": [],
   "source": [
    "x = lemur.tensor([i for i in range(1,33)], (2,2,2,2,2),  requires_grad=True)\n",
    "y = x.sum(lemur.tensor([0,0,0,0,0]))\n",
    "y"
   ]
  },
  {
   "cell_type": "code",
   "execution_count": null,
   "metadata": {},
   "outputs": [],
   "source": [
    "y.backward()"
   ]
  },
  {
   "cell_type": "code",
   "execution_count": null,
   "metadata": {},
   "outputs": [],
   "source": [
    "x = lemur.tensor([1.0], requires_grad=True)\n",
    "y = lemur.tensor([4.0], requires_grad=True)\n",
    "\n",
    "z = x + y  \n",
    "w = z * x  \n",
    "w = w.relu() \n",
    "\n",
    "w.backward() \n",
    "print(\"Result from main:\", w)"
   ]
  },
  {
   "cell_type": "code",
   "execution_count": 36,
   "metadata": {},
   "outputs": [],
   "source": [
    "shape = [1,1,1,1,10]"
   ]
  },
  {
   "cell_type": "code",
   "execution_count": null,
   "metadata": {},
   "outputs": [],
   "source": [
    "%%timeit\n",
    "x = lemur.LemurTensor(shape=shape, requires_grad=False)\n",
    "y = lemur.LemurTensor(shape=shape, requires_grad=False)\n",
    "x + y  "
   ]
  },
  {
   "cell_type": "code",
   "execution_count": 3,
   "metadata": {},
   "outputs": [],
   "source": [
    "import torch "
   ]
  },
  {
   "cell_type": "code",
   "execution_count": null,
   "metadata": {},
   "outputs": [],
   "source": [
    "%%timeit\n",
    "x = torch.empty(shape)\n",
    "y = torch.empty(shape)\n",
    "x + y  "
   ]
  },
  {
   "cell_type": "code",
   "execution_count": null,
   "metadata": {},
   "outputs": [],
   "source": [
    "t0 = torch.tensor([10.], requires_grad=True)\n",
    "t1 = torch.tensor([12.], requires_grad=True)\n",
    "t2 = torch.tensor([-15.], requires_grad=True)\n",
    "t4 = t0 * t1 + t2\n",
    "t4\n"
   ]
  },
  {
   "cell_type": "code",
   "execution_count": 12,
   "metadata": {},
   "outputs": [],
   "source": [
    "t4.backward()"
   ]
  },
  {
   "cell_type": "code",
   "execution_count": null,
   "metadata": {},
   "outputs": [],
   "source": [
    "t0.grad, t1.grad, t2.grad"
   ]
  },
  {
   "cell_type": "code",
   "execution_count": null,
   "metadata": {},
   "outputs": [],
   "source": [
    "a = lemur.tensor([[10.,12.],[-1.,-4.]], requires_grad = True)\n",
    "b = lemur.rand_like(a)\n",
    "c = (a @ b).mean()\n",
    "c.backward()\n",
    "a.grad"
   ]
  },
  {
   "cell_type": "code",
   "execution_count": null,
   "metadata": {},
   "outputs": [],
   "source": [
    "c"
   ]
  },
  {
   "cell_type": "code",
   "execution_count": null,
   "metadata": {},
   "outputs": [],
   "source": [
    "a = lemur.tensor([...], requires_grad = True)\n",
    "b = lemur.tensor([...], requires_grad = True)\n",
    "c = (a + b).relu()"
   ]
  },
  {
   "cell_type": "code",
   "execution_count": null,
   "metadata": {},
   "outputs": [],
   "source": [
    "x = torch.tensor([[1], [2], [3]])\n",
    "x.size(), x.stride()"
   ]
  },
  {
   "cell_type": "code",
   "execution_count": null,
   "metadata": {},
   "outputs": [],
   "source": [
    "x.expand(3, 4)\n"
   ]
  },
  {
   "cell_type": "code",
   "execution_count": null,
   "metadata": {},
   "outputs": [],
   "source": [
    "x.retain_grad()\n",
    "x.grad"
   ]
  },
  {
   "cell_type": "code",
   "execution_count": null,
   "metadata": {},
   "outputs": [],
   "source": []
  },
  {
   "cell_type": "code",
   "execution_count": null,
   "metadata": {},
   "outputs": [],
   "source": [
    "x = torch.tensor([[1],[2]]).expand((2,10))\n",
    "x.shape, x.stride()"
   ]
  },
  {
   "cell_type": "code",
   "execution_count": null,
   "metadata": {},
   "outputs": [],
   "source": [
    "y = x.reshape(20)"
   ]
  },
  {
   "cell_type": "code",
   "execution_count": null,
   "metadata": {},
   "outputs": [],
   "source": [
    "y.shape, y.stride"
   ]
  },
  {
   "cell_type": "code",
   "execution_count": null,
   "metadata": {},
   "outputs": [],
   "source": [
    "x = torch.tensor([[10.]]).expand(1,10)\n",
    "x.requires_grad = True\n",
    "x.stride()"
   ]
  },
  {
   "cell_type": "code",
   "execution_count": null,
   "metadata": {},
   "outputs": [],
   "source": [
    "x.sum().backward()\n",
    "x.grad.stride()"
   ]
  },
  {
   "cell_type": "code",
   "execution_count": 99,
   "metadata": {},
   "outputs": [],
   "source": [
    "x = torch.rand((3,4)).t() #(1,4)\n",
    "x.requires_grad = True\n"
   ]
  },
  {
   "cell_type": "code",
   "execution_count": 100,
   "metadata": {},
   "outputs": [],
   "source": [
    "x.sum().backward()"
   ]
  },
  {
   "cell_type": "code",
   "execution_count": null,
   "metadata": {},
   "outputs": [],
   "source": [
    "x.grad.stride()"
   ]
  },
  {
   "cell_type": "code",
   "execution_count": 83,
   "metadata": {},
   "outputs": [],
   "source": [
    "float arr[27]\n",
    "shape (3,3,3) \n",
    "stride (9,3,1)"
   ]
  },
  {
   "cell_type": "code",
   "execution_count": null,
   "metadata": {},
   "outputs": [],
   "source": [
    "t0 -> 1,1 \n",
    "   -> length = 1\n",
    "\n",
    "t1 -> 1,10 \n",
    "   -> length = 1   \n",
    "   -> comesfrom -> t0, expand, 1 10\n",
    "\n",
    "\n",
    "\n",
    "\n"
   ]
  },
  {
   "cell_type": "code",
   "execution_count": null,
   "metadata": {},
   "outputs": [],
   "source": [
    "x.stride()"
   ]
  },
  {
   "cell_type": "code",
   "execution_count": 3,
   "metadata": {},
   "outputs": [],
   "source": [
    "import torch"
   ]
  },
  {
   "cell_type": "code",
   "execution_count": null,
   "metadata": {},
   "outputs": [],
   "source": [
    "x = torch.randn((3,1), requires_grad=True)\n",
    "x2 = torch.randn((3,1), requires_grad=True)\n",
    "\n",
    "x.stride()"
   ]
  },
  {
   "cell_type": "code",
   "execution_count": null,
   "metadata": {},
   "outputs": [],
   "source": [
    "y = (x*x2).expand(3,4)\n",
    "y.stride()"
   ]
  },
  {
   "cell_type": "code",
   "execution_count": 154,
   "metadata": {},
   "outputs": [],
   "source": [
    "y.sum().backward()"
   ]
  },
  {
   "cell_type": "code",
   "execution_count": null,
   "metadata": {},
   "outputs": [],
   "source": [
    "x.grad, x2*4"
   ]
  },
  {
   "cell_type": "code",
   "execution_count": null,
   "metadata": {},
   "outputs": [],
   "source": [
    "torch.empty((1,2,3,4,5)).permute(1,2,3,4,0).stride()\n"
   ]
  },
  {
   "cell_type": "code",
   "execution_count": null,
   "metadata": {},
   "outputs": [],
   "source": [
    "x = torch.tensor([[1]]).expand(1,10)\n",
    "x.stride()\n"
   ]
  },
  {
   "cell_type": "code",
   "execution_count": null,
   "metadata": {},
   "outputs": [],
   "source": [
    "y = x.relu()\n",
    "y.stride()"
   ]
  },
  {
   "cell_type": "code",
   "execution_count": null,
   "metadata": {},
   "outputs": [],
   "source": [
    "x"
   ]
  },
  {
   "cell_type": "code",
   "execution_count": null,
   "metadata": {},
   "outputs": [],
   "source": [
    "x = torch.tensor([[0.,0.]]).permute(1,0)\n",
    "x.requires_grad = True\n",
    "x, x.stride(), x.is_contiguous()\n"
   ]
  },
  {
   "cell_type": "code",
   "execution_count": 217,
   "metadata": {},
   "outputs": [],
   "source": [
    "x.sum().backward()"
   ]
  },
  {
   "cell_type": "code",
   "execution_count": null,
   "metadata": {},
   "outputs": [],
   "source": [
    "x.grad.stride(), x.stride()"
   ]
  },
  {
   "cell_type": "code",
   "execution_count": null,
   "metadata": {},
   "outputs": [],
   "source": [
    "x.is_contiguous()"
   ]
  },
  {
   "cell_type": "code",
   "execution_count": null,
   "metadata": {},
   "outputs": [],
   "source": [
    "x.contiguous().stride()"
   ]
  },
  {
   "cell_type": "code",
   "execution_count": null,
   "metadata": {},
   "outputs": [],
   "source": [
    "a = torch.arange(8).view(1,4,2)\n",
    "a.stride()"
   ]
  },
  {
   "cell_type": "code",
   "execution_count": null,
   "metadata": {},
   "outputs": [],
   "source": [
    "a.permute(1,0).is_contiguous()"
   ]
  },
  {
   "cell_type": "code",
   "execution_count": null,
   "metadata": {},
   "outputs": [],
   "source": [
    "a = torch.arange(1,33, dtype=float, requires_grad=True)\n",
    "a.view(2,2,2,2,2).sum().backward()\n",
    "a.grad"
   ]
  },
  {
   "cell_type": "code",
   "execution_count": null,
   "metadata": {},
   "outputs": [],
   "source": [
    "x = lemur.tensor([i for i in range(1,33)], (2,2,2,2,2),  requires_grad=True)\n",
    "y = x.sum(lemur.tensor([0,0,0,0,0]))\n",
    "y\n"
   ]
  },
  {
   "cell_type": "code",
   "execution_count": null,
   "metadata": {},
   "outputs": [],
   "source": [
    "y.backward()"
   ]
  },
  {
   "cell_type": "code",
   "execution_count": null,
   "metadata": {},
   "outputs": [],
   "source": [
    "x"
   ]
  },
  {
   "cell_type": "code",
   "execution_count": null,
   "metadata": {},
   "outputs": [],
   "source": [
    "a.sum(0,keepdim=True).sum(1,keepdim=True).sum(2,keepdim=True).sum(3,keepdim=True)\n"
   ]
  },
  {
   "cell_type": "code",
   "execution_count": null,
   "metadata": {},
   "outputs": [],
   "source": [
    "a.sum(0,keepdim=True).sum(1,keepdim=True).sum(3,keepdim=True).sum(4,keepdim=True)"
   ]
  },
  {
   "cell_type": "code",
   "execution_count": null,
   "metadata": {},
   "outputs": [],
   "source": [
    "(2,2,2,2,2) -> (1,2,2,2,1)"
   ]
  },
  {
   "cell_type": "code",
   "execution_count": 43,
   "metadata": {},
   "outputs": [],
   "source": [
    "s = (5,5,50,5,5)\n",
    "a_t = torch.empty(s)\n",
    "a_l = lemur.LemurTensor(shape=s, requires_grad=False)\n",
    "\n"
   ]
  },
  {
   "cell_type": "code",
   "execution_count": null,
   "metadata": {},
   "outputs": [],
   "source": [
    "%%timeit\n",
    "b = a_t.sum(0,keepdim=True).sum(1,keepdim=True).sum(2,keepdim=True).sum(3,keepdim=True)"
   ]
  },
  {
   "cell_type": "code",
   "execution_count": null,
   "metadata": {},
   "outputs": [],
   "source": [
    "%%timeit\n",
    "b = a_l.sum(lemur.tensor([0,0,0,0,0])) "
   ]
  },
  {
   "cell_type": "code",
   "execution_count": null,
   "metadata": {},
   "outputs": [],
   "source": [
    "import torch\n",
    "torch.tensor([1,2]).expand(10)"
   ]
  },
  {
   "cell_type": "code",
   "execution_count": 5,
   "metadata": {},
   "outputs": [],
   "source": []
  },
  {
   "cell_type": "code",
   "execution_count": null,
   "metadata": {},
   "outputs": [],
   "source": [
    "print(plot_tensor_graph(d))"
   ]
  },
  {
   "cell_type": "code",
   "execution_count": null,
   "metadata": {},
   "outputs": [],
   "source": []
  }
 ],
 "metadata": {
  "kernelspec": {
   "display_name": "Python 3 (ipykernel)",
   "language": "python",
   "name": "python3"
  },
  "language_info": {
   "codemirror_mode": {
    "name": "ipython",
    "version": 3
   },
   "file_extension": ".py",
   "mimetype": "text/x-python",
   "name": "python",
   "nbconvert_exporter": "python",
   "pygments_lexer": "ipython3",
   "version": "3.12.2"
  }
 },
 "nbformat": 4,
 "nbformat_minor": 4
}
