{
 "cells": [
  {
   "cell_type": "code",
   "execution_count": 1,
   "metadata": {},
   "outputs": [],
   "source": [
    "import sys\n",
    "sys.path.append('../')\n",
    "import lemur"
   ]
  },
  {
   "cell_type": "code",
   "execution_count": 3,
   "metadata": {},
   "outputs": [
    {
     "data": {
      "text/plain": [
       "tensor @ 0x152673bb0\n",
       "comes_from: [NULL expression]\n",
       "k:\n",
       "kernel_tensor @ 0x1338358d0 with length = 16 \n",
       "stride = [16, 16, 16, 4, 1]\n",
       "computed = false\n",
       "shallow = false\n",
       "tensor([[[[[  0.00,   0.00,   0.00,   0.00],\n",
       "\t   [  0.00,   0.00,   0.00,   0.00],\n",
       "\t   [  0.00,   0.00,   0.00,   0.00],\n",
       "\t   [  0.00,   0.00,   0.00,   0.00]]]]])\n",
       "shape = [1, 1, 1, 4, 4]\n",
       "grad:\n",
       "[NULL kernel_tensor]"
      ]
     },
     "execution_count": 3,
     "metadata": {},
     "output_type": "execute_result"
    }
   ],
   "source": [
    "lemur.full((1,1,1,4,4),100.0)\n"
   ]
  },
  {
   "cell_type": "code",
   "execution_count": null,
   "metadata": {},
   "outputs": [],
   "source": []
  },
  {
   "cell_type": "code",
   "execution_count": null,
   "metadata": {},
   "outputs": [],
   "source": []
  },
  {
   "cell_type": "code",
   "execution_count": null,
   "metadata": {},
   "outputs": [],
   "source": []
  },
  {
   "cell_type": "code",
   "execution_count": null,
   "metadata": {},
   "outputs": [],
   "source": []
  },
  {
   "cell_type": "code",
   "execution_count": null,
   "metadata": {},
   "outputs": [],
   "source": []
  },
  {
   "cell_type": "code",
   "execution_count": 7,
   "metadata": {},
   "outputs": [],
   "source": [
    "a = lemur.LemurTensor(s, requires_grad=True)\n",
    "b = lemur.LemurTensor(s, requires_grad=True)\n",
    "c = lemur.LemurTensor(s)\n",
    "r = lemur.tensor((0,0,0,0,0))"
   ]
  },
  {
   "cell_type": "code",
   "execution_count": 4,
   "metadata": {},
   "outputs": [
    {
     "data": {
      "text/plain": [
       "tensor @ 0x12d647b20\n",
       "comes_from: [NULL expression]\n",
       "k:\n",
       "kernel_tensor @ 0x12d647b40 with length = 5 \n",
       "stride = [5, 5, 5, 5, 1]\n",
       "computed = false\n",
       "shallow = false\n",
       "tensor([[[[[0.0e+00, 5.0e-01, 0.0e+00, 0.0e+00, 1.0e+02]]]]])\n",
       "shape = [1, 1, 1, 1, 5]\n",
       "grad:\n",
       "[NULL kernel_tensor]"
      ]
     },
     "execution_count": 4,
     "metadata": {},
     "output_type": "execute_result"
    }
   ],
   "source": [
    "lemur.tensor((0,0.5,0,0,100))"
   ]
  },
  {
   "cell_type": "code",
   "execution_count": 4,
   "metadata": {},
   "outputs": [
    {
     "name": "stdout",
     "output_type": "stream",
     "text": [
      "└── LemurTensor @ 0x137e3ced0 \n",
      "    └── [sum]\n",
      "        └── LemurTensor @ 0x137e35e30 (shape=[5, 5])\n",
      "            └── [add]\n",
      "                ├── LemurTensor @ 0x137e3e5c0 (shape=[5, 5])\n",
      "                │   └── [add]\n",
      "                │       ├── LemurTensor @ 0x137e33a80 (shape=[5, 5])\n",
      "                │       │   └── [mul]\n",
      "                │       │       ├── LemurTensor @ 0x147eb9a30 (shape=[5, 5])\n",
      "                │       │       └── LemurTensor @ 0x117facf10 (shape=[5, 5])\n",
      "                │       └── LemurTensor @ 0x117f280b0 (shape=[5, 5])\n",
      "                └── LemurTensor @ 0x130204330 (shape=[5, 5])\n",
      "                    └── [add]\n",
      "                        ├── LemurTensor @ 0x130204280 (shape=[5, 5])\n",
      "                        │   └── [mul]\n",
      "                        │       ├── [repeated] LemurTensor @ 0x137e3e5c0 (shape=[5, 5])\n",
      "                        │       └── [repeated] LemurTensor @ 0x137e3e5c0 (shape=[5, 5])\n",
      "                        └── [repeated] LemurTensor @ 0x137e3e5c0 (shape=[5, 5])\n"
     ]
    }
   ],
   "source": [
    "d = (a * b) + c\n",
    "e = (d * d) + d\n",
    "f = d + e\n",
    "g = f.sum(r) \n",
    "print(g.graph())"
   ]
  },
  {
   "cell_type": "code",
   "execution_count": 7,
   "metadata": {},
   "outputs": [],
   "source": [
    "#%%timeit\n",
    "d = (a * b) + c\n",
    "e = (d * d) + d\n",
    "f = a + b + c + d + e\n",
    "g = f.sum(r) #fwd takes 5ms\n",
    "g.backward() #backward takes 15ms"
   ]
  },
  {
   "cell_type": "code",
   "execution_count": 5,
   "metadata": {},
   "outputs": [],
   "source": [
    "#d.graph()"
   ]
  },
  {
   "cell_type": "code",
   "execution_count": 15,
   "metadata": {},
   "outputs": [],
   "source": [
    "import torch"
   ]
  },
  {
   "cell_type": "code",
   "execution_count": 19,
   "metadata": {},
   "outputs": [
    {
     "data": {
      "text/plain": [
       "tensor([1., 1., 1., 1., 1., 1., 1., 1., 1., 1., 1., 1., 1., 1., 1., 1., 1., 1.,\n",
       "        1., 1., 1., 1., 1., 1., 1., 1., 1., 1., 1., 1., 1., 1.])"
      ]
     },
     "execution_count": 19,
     "metadata": {},
     "output_type": "execute_result"
    }
   ],
   "source": [
    "at = torch.arange(32., requires_grad=True)\n",
    "a = at.view(2,4,4)\n",
    "a.sum().backward()\n",
    "at.grad\n"
   ]
  },
  {
   "cell_type": "code",
   "execution_count": 13,
   "metadata": {},
   "outputs": [],
   "source": [
    "at = torch.empty(s, requires_grad=True)\n",
    "bt = torch.empty(s, requires_grad=True)\n",
    "ct = torch.empty(s)\n"
   ]
  },
  {
   "cell_type": "code",
   "execution_count": null,
   "metadata": {},
   "outputs": [
    {
     "name": "stdout",
     "output_type": "stream",
     "text": [
      "4.52 ms ± 311 µs per loop (mean ± std. dev. of 7 runs, 100 loops each)\n"
     ]
    }
   ],
   "source": [
    "%%timeit\n",
    "dt = (at * bt) + ct\n",
    "et = (dt * dt) + dt\n",
    "ft = at + bt + ct + dt + et\n",
    "gt = ft.sum() #fw 3ms\n",
    "gt.backward() #backward 5ms"
   ]
  },
  {
   "cell_type": "code",
   "execution_count": null,
   "metadata": {},
   "outputs": [],
   "source": [
    "a = lemur.tensor([i for i in range(1,9)], (1,1,2,2,2),  requires_grad=True)\n",
    "b = lemur.tensor([i for i in range(1+10,9+10)], (1,1,2,2,2),  requires_grad=True)\n",
    "dm = lemur.tensor([0,0,0,0,0])\n",
    "v = lemur.tensor([0,1,2,4,3])\n",
    "a_p = a.permute(v)\n"
   ]
  },
  {
   "cell_type": "code",
   "execution_count": 3,
   "metadata": {},
   "outputs": [
    {
     "name": "stdout",
     "output_type": "stream",
     "text": [
      "3.27 µs ± 6.94 ns per loop (mean ± std. dev. of 7 runs, 100,000 loops each)\n"
     ]
    }
   ],
   "source": [
    "%%timeit\n",
    "c = b * a_p\n",
    "d = c.sum(dm)\n",
    "d.backward()\n"
   ]
  },
  {
   "cell_type": "code",
   "execution_count": null,
   "metadata": {},
   "outputs": [],
   "source": [
    "a = lemur.tensor([i for i in range(1,9)], (1,1,2,2,2),  requires_grad=True)\n",
    "b = lemur.tensor([i for i in range(1+10,9+10)], (1,1,2,2,2),  requires_grad=True)\n",
    "dm = lemur.tensor([0,0,0,0,0])\n",
    "v = lemur.tensor([0,1,2,4,3])\n",
    "a_p = a.permute(v)\n"
   ]
  },
  {
   "cell_type": "code",
   "execution_count": 21,
   "metadata": {},
   "outputs": [
    {
     "name": "stdout",
     "output_type": "stream",
     "text": [
      "call\n",
      "tensor @ 0x13dfa4d30\n",
      "comes_from: [NULL expression]\n",
      "k:\n",
      "kernel_tensor @ 0x13df9bd70 with length = 8 \n",
      "stride = [8, 8, 4, 2, 1]\n",
      "computed = false\n",
      "tensor([[[[[1.0000, 2.0000],[3.0000, 4.0000]],[[5.0000, 6.0000],[7.0000, 8.0000]]]]])\n",
      "shape = [1, 1, 2, 2, 2]\n",
      "grad:\n",
      "kernel_tensor @ 0x13dfb0000 with length = 8 \n",
      "stride = [8, 8, 4, 2, 1]\n",
      "computed = false\n",
      "tensor([[[[[0.0000, 0.0000],[0.0000, 0.0000]],[[0.0000, 0.0000],[0.0000, 0.0000]]]]])\n",
      "shape = [1, 1, 2, 2, 2]\n",
      "\n"
     ]
    }
   ],
   "source": [
    "a_p = a.permute(v)\n",
    "print(a)\n"
   ]
  },
  {
   "cell_type": "code",
   "execution_count": 7,
   "metadata": {},
   "outputs": [
    {
     "name": "stdout",
     "output_type": "stream",
     "text": [
      "3.3 µs ± 22.8 ns per loop (mean ± std. dev. of 7 runs, 100,000 loops each)\n"
     ]
    }
   ],
   "source": []
  },
  {
   "cell_type": "code",
   "execution_count": 19,
   "metadata": {},
   "outputs": [
    {
     "name": "stdout",
     "output_type": "stream",
     "text": [
      "199 µs ± 8.24 µs per loop (mean ± std. dev. of 7 runs, 10,000 loops each)\n"
     ]
    }
   ],
   "source": [
    "%%timeit\n",
    "at.permute(0,1,2,4,3).contiguous()"
   ]
  },
  {
   "cell_type": "code",
   "execution_count": 4,
   "metadata": {},
   "outputs": [],
   "source": [
    "import torch\n",
    "at = torch.tensor([[[[[1.0000, 2.0000],[3.0000, 4.0000]],[[5.0000, 6.0000],[7.0000, 8.0000]]]]],  requires_grad=True, dtype=float)\n",
    "bt = torch.tensor([[[[[11.0000, 12.0000],[13.0000, 14.0000]],[[15.0000, 16.0000],[17.0000, 18.0000]]]]],  requires_grad=True, dtype=float)\n",
    "at_p = at.permute([0,1,2,4,3])\n"
   ]
  },
  {
   "cell_type": "code",
   "execution_count": 7,
   "metadata": {},
   "outputs": [
    {
     "name": "stdout",
     "output_type": "stream",
     "text": [
      "20.6 µs ± 433 ns per loop (mean ± std. dev. of 7 runs, 10,000 loops each)\n"
     ]
    }
   ],
   "source": [
    "%%timeit\n",
    "ct = bt * at_p\n",
    "dt = ct.sum()\n",
    "dt.backward(retain_graph=True)\n"
   ]
  },
  {
   "cell_type": "code",
   "execution_count": 6,
   "metadata": {},
   "outputs": [
    {
     "data": {
      "text/plain": [
       "tensor([[[[[1., 3.],\n",
       "           [2., 4.]],\n",
       "\n",
       "          [[5., 7.],\n",
       "           [6., 8.]]]]], dtype=torch.float64)"
      ]
     },
     "execution_count": 6,
     "metadata": {},
     "output_type": "execute_result"
    }
   ],
   "source": [
    "bt.grad"
   ]
  },
  {
   "cell_type": "code",
   "execution_count": null,
   "metadata": {},
   "outputs": [],
   "source": [
    "x = lemur.tensor([i for i in range(1,33)], (2,2,2,2,2),  requires_grad=True)\n",
    "y = x.sum(lemur.tensor([0,0,0,0,0]))\n",
    "y"
   ]
  },
  {
   "cell_type": "code",
   "execution_count": null,
   "metadata": {},
   "outputs": [],
   "source": [
    "y.backward()"
   ]
  },
  {
   "cell_type": "code",
   "execution_count": null,
   "metadata": {},
   "outputs": [],
   "source": [
    "x = lemur.tensor([1.0], requires_grad=True)\n",
    "y = lemur.tensor([4.0], requires_grad=True)\n",
    "\n",
    "z = x + y  \n",
    "w = z * x  \n",
    "w = w.relu() \n",
    "\n",
    "w.backward() \n",
    "print(\"Result from main:\", w)"
   ]
  },
  {
   "cell_type": "code",
   "execution_count": 36,
   "metadata": {},
   "outputs": [],
   "source": [
    "shape = [1,1,1,1,10]"
   ]
  },
  {
   "cell_type": "code",
   "execution_count": null,
   "metadata": {},
   "outputs": [],
   "source": [
    "%%timeit\n",
    "x = lemur.LemurTensor(shape=shape, requires_grad=False)\n",
    "y = lemur.LemurTensor(shape=shape, requires_grad=False)\n",
    "x + y  "
   ]
  },
  {
   "cell_type": "code",
   "execution_count": 3,
   "metadata": {},
   "outputs": [],
   "source": [
    "import torch "
   ]
  },
  {
   "cell_type": "code",
   "execution_count": null,
   "metadata": {},
   "outputs": [],
   "source": [
    "%%timeit\n",
    "x = torch.empty(shape)\n",
    "y = torch.empty(shape)\n",
    "x + y  "
   ]
  },
  {
   "cell_type": "code",
   "execution_count": null,
   "metadata": {},
   "outputs": [],
   "source": [
    "t0 = torch.tensor([10.], requires_grad=True)\n",
    "t1 = torch.tensor([12.], requires_grad=True)\n",
    "t2 = torch.tensor([-15.], requires_grad=True)\n",
    "t4 = t0 * t1 + t2\n",
    "t4\n"
   ]
  },
  {
   "cell_type": "code",
   "execution_count": 12,
   "metadata": {},
   "outputs": [],
   "source": [
    "t4.backward()"
   ]
  },
  {
   "cell_type": "code",
   "execution_count": null,
   "metadata": {},
   "outputs": [],
   "source": [
    "t0.grad, t1.grad, t2.grad"
   ]
  },
  {
   "cell_type": "code",
   "execution_count": null,
   "metadata": {},
   "outputs": [],
   "source": [
    "a = lemur.tensor([[10.,12.],[-1.,-4.]], requires_grad = True)\n",
    "b = lemur.rand_like(a)\n",
    "c = (a @ b).mean()\n",
    "c.backward()\n",
    "a.grad"
   ]
  },
  {
   "cell_type": "code",
   "execution_count": null,
   "metadata": {},
   "outputs": [],
   "source": [
    "c"
   ]
  },
  {
   "cell_type": "code",
   "execution_count": null,
   "metadata": {},
   "outputs": [],
   "source": [
    "a = lemur.tensor([...], requires_grad = True)\n",
    "b = lemur.tensor([...], requires_grad = True)\n",
    "c = (a + b).relu()"
   ]
  },
  {
   "cell_type": "code",
   "execution_count": null,
   "metadata": {},
   "outputs": [],
   "source": [
    "x = torch.tensor([[1], [2], [3]])\n",
    "x.size(), x.stride()"
   ]
  },
  {
   "cell_type": "code",
   "execution_count": null,
   "metadata": {},
   "outputs": [],
   "source": [
    "x.expand(3, 4)\n"
   ]
  },
  {
   "cell_type": "code",
   "execution_count": null,
   "metadata": {},
   "outputs": [],
   "source": [
    "x.retain_grad()\n",
    "x.grad"
   ]
  },
  {
   "cell_type": "code",
   "execution_count": null,
   "metadata": {},
   "outputs": [],
   "source": []
  },
  {
   "cell_type": "code",
   "execution_count": null,
   "metadata": {},
   "outputs": [],
   "source": [
    "x = torch.tensor([[1],[2]]).expand((2,10))\n",
    "x.shape, x.stride()"
   ]
  },
  {
   "cell_type": "code",
   "execution_count": null,
   "metadata": {},
   "outputs": [],
   "source": [
    "y = x.reshape(20)"
   ]
  },
  {
   "cell_type": "code",
   "execution_count": null,
   "metadata": {},
   "outputs": [],
   "source": [
    "y.shape, y.stride"
   ]
  },
  {
   "cell_type": "code",
   "execution_count": null,
   "metadata": {},
   "outputs": [],
   "source": [
    "x = torch.tensor([[10.]]).expand(1,10)\n",
    "x.requires_grad = True\n",
    "x.stride()"
   ]
  },
  {
   "cell_type": "code",
   "execution_count": null,
   "metadata": {},
   "outputs": [],
   "source": [
    "x.sum().backward()\n",
    "x.grad.stride()"
   ]
  },
  {
   "cell_type": "code",
   "execution_count": 99,
   "metadata": {},
   "outputs": [],
   "source": [
    "x = torch.rand((3,4)).t() #(1,4)\n",
    "x.requires_grad = True\n"
   ]
  },
  {
   "cell_type": "code",
   "execution_count": 100,
   "metadata": {},
   "outputs": [],
   "source": [
    "x.sum().backward()"
   ]
  },
  {
   "cell_type": "code",
   "execution_count": null,
   "metadata": {},
   "outputs": [],
   "source": [
    "x.grad.stride()"
   ]
  },
  {
   "cell_type": "code",
   "execution_count": 83,
   "metadata": {},
   "outputs": [],
   "source": [
    "float arr[27]\n",
    "shape (3,3,3) \n",
    "stride (9,3,1)"
   ]
  },
  {
   "cell_type": "code",
   "execution_count": null,
   "metadata": {},
   "outputs": [],
   "source": [
    "t0 -> 1,1 \n",
    "   -> length = 1\n",
    "\n",
    "t1 -> 1,10 \n",
    "   -> length = 1   \n",
    "   -> comesfrom -> t0, expand, 1 10\n",
    "\n",
    "\n",
    "\n",
    "\n"
   ]
  },
  {
   "cell_type": "code",
   "execution_count": null,
   "metadata": {},
   "outputs": [],
   "source": [
    "x.stride()"
   ]
  },
  {
   "cell_type": "code",
   "execution_count": 3,
   "metadata": {},
   "outputs": [],
   "source": [
    "import torch"
   ]
  },
  {
   "cell_type": "code",
   "execution_count": null,
   "metadata": {},
   "outputs": [],
   "source": [
    "x = torch.randn((3,1), requires_grad=True)\n",
    "x2 = torch.randn((3,1), requires_grad=True)\n",
    "\n",
    "x.stride()"
   ]
  },
  {
   "cell_type": "code",
   "execution_count": null,
   "metadata": {},
   "outputs": [],
   "source": [
    "y = (x*x2).expand(3,4)\n",
    "y.stride()"
   ]
  },
  {
   "cell_type": "code",
   "execution_count": 154,
   "metadata": {},
   "outputs": [],
   "source": [
    "y.sum().backward()"
   ]
  },
  {
   "cell_type": "code",
   "execution_count": null,
   "metadata": {},
   "outputs": [],
   "source": [
    "x.grad, x2*4"
   ]
  },
  {
   "cell_type": "code",
   "execution_count": null,
   "metadata": {},
   "outputs": [],
   "source": [
    "torch.empty((1,2,3,4,5)).permute(1,2,3,4,0).stride()\n"
   ]
  },
  {
   "cell_type": "code",
   "execution_count": null,
   "metadata": {},
   "outputs": [],
   "source": [
    "x = torch.tensor([[1]]).expand(1,10)\n",
    "x.stride()\n"
   ]
  },
  {
   "cell_type": "code",
   "execution_count": null,
   "metadata": {},
   "outputs": [],
   "source": [
    "y = x.relu()\n",
    "y.stride()"
   ]
  },
  {
   "cell_type": "code",
   "execution_count": null,
   "metadata": {},
   "outputs": [],
   "source": [
    "x"
   ]
  },
  {
   "cell_type": "code",
   "execution_count": null,
   "metadata": {},
   "outputs": [],
   "source": [
    "x = torch.tensor([[0.,0.]]).permute(1,0)\n",
    "x.requires_grad = True\n",
    "x, x.stride(), x.is_contiguous()\n"
   ]
  },
  {
   "cell_type": "code",
   "execution_count": 217,
   "metadata": {},
   "outputs": [],
   "source": [
    "x.sum().backward()"
   ]
  },
  {
   "cell_type": "code",
   "execution_count": null,
   "metadata": {},
   "outputs": [],
   "source": [
    "x.grad.stride(), x.stride()"
   ]
  },
  {
   "cell_type": "code",
   "execution_count": null,
   "metadata": {},
   "outputs": [],
   "source": [
    "x.is_contiguous()"
   ]
  },
  {
   "cell_type": "code",
   "execution_count": null,
   "metadata": {},
   "outputs": [],
   "source": [
    "x.contiguous().stride()"
   ]
  },
  {
   "cell_type": "code",
   "execution_count": null,
   "metadata": {},
   "outputs": [],
   "source": [
    "a = torch.arange(8).view(1,4,2)\n",
    "a.stride()"
   ]
  },
  {
   "cell_type": "code",
   "execution_count": null,
   "metadata": {},
   "outputs": [],
   "source": [
    "a.permute(1,0).is_contiguous()"
   ]
  },
  {
   "cell_type": "code",
   "execution_count": null,
   "metadata": {},
   "outputs": [],
   "source": [
    "a = torch.arange(1,33, dtype=float, requires_grad=True)\n",
    "a.view(2,2,2,2,2).sum().backward()\n",
    "a.grad"
   ]
  },
  {
   "cell_type": "code",
   "execution_count": null,
   "metadata": {},
   "outputs": [],
   "source": [
    "x = lemur.tensor([i for i in range(1,33)], (2,2,2,2,2),  requires_grad=True)\n",
    "y = x.sum(lemur.tensor([0,0,0,0,0]))\n",
    "y\n"
   ]
  },
  {
   "cell_type": "code",
   "execution_count": null,
   "metadata": {},
   "outputs": [],
   "source": [
    "y.backward()"
   ]
  },
  {
   "cell_type": "code",
   "execution_count": null,
   "metadata": {},
   "outputs": [],
   "source": [
    "x"
   ]
  },
  {
   "cell_type": "code",
   "execution_count": null,
   "metadata": {},
   "outputs": [],
   "source": [
    "a.sum(0,keepdim=True).sum(1,keepdim=True).sum(2,keepdim=True).sum(3,keepdim=True)\n"
   ]
  },
  {
   "cell_type": "code",
   "execution_count": null,
   "metadata": {},
   "outputs": [],
   "source": [
    "a.sum(0,keepdim=True).sum(1,keepdim=True).sum(3,keepdim=True).sum(4,keepdim=True)"
   ]
  },
  {
   "cell_type": "code",
   "execution_count": null,
   "metadata": {},
   "outputs": [],
   "source": [
    "(2,2,2,2,2) -> (1,2,2,2,1)"
   ]
  },
  {
   "cell_type": "code",
   "execution_count": 43,
   "metadata": {},
   "outputs": [],
   "source": [
    "s = (5,5,50,5,5)\n",
    "a_t = torch.empty(s)\n",
    "a_l = lemur.LemurTensor(shape=s, requires_grad=False)\n",
    "\n"
   ]
  },
  {
   "cell_type": "code",
   "execution_count": null,
   "metadata": {},
   "outputs": [],
   "source": [
    "%%timeit\n",
    "b = a_t.sum(0,keepdim=True).sum(1,keepdim=True).sum(2,keepdim=True).sum(3,keepdim=True)"
   ]
  },
  {
   "cell_type": "code",
   "execution_count": null,
   "metadata": {},
   "outputs": [],
   "source": [
    "%%timeit\n",
    "b = a_l.sum(lemur.tensor([0,0,0,0,0])) "
   ]
  },
  {
   "cell_type": "code",
   "execution_count": null,
   "metadata": {},
   "outputs": [],
   "source": [
    "import torch\n",
    "torch.tensor([1,2]).expand(10)"
   ]
  },
  {
   "cell_type": "code",
   "execution_count": 5,
   "metadata": {},
   "outputs": [],
   "source": []
  },
  {
   "cell_type": "code",
   "execution_count": 6,
   "metadata": {},
   "outputs": [
    {
     "ename": "AttributeError",
     "evalue": "module 'lemur' has no attribute 'get_op_name'",
     "output_type": "error",
     "traceback": [
      "\u001b[0;31m---------------------------------------------------------------------------\u001b[0m",
      "\u001b[0;31mAttributeError\u001b[0m                            Traceback (most recent call last)",
      "Cell \u001b[0;32mIn[6], line 1\u001b[0m\n\u001b[0;32m----> 1\u001b[0m \u001b[38;5;28mprint\u001b[39m(\u001b[43mplot_tensor_graph\u001b[49m\u001b[43m(\u001b[49m\u001b[43md\u001b[49m\u001b[43m)\u001b[49m)\n",
      "Cell \u001b[0;32mIn[5], line 104\u001b[0m, in \u001b[0;36mplot_tensor_graph\u001b[0;34m(t_or_ptr)\u001b[0m\n\u001b[1;32m     99\u001b[0m \u001b[38;5;28;01mdef\u001b[39;00m\u001b[38;5;250m \u001b[39m\u001b[38;5;21mplot_tensor_graph\u001b[39m(t_or_ptr):\n\u001b[1;32m    100\u001b[0m \u001b[38;5;250m    \u001b[39m\u001b[38;5;124;03m\"\"\"\u001b[39;00m\n\u001b[1;32m    101\u001b[0m \u001b[38;5;124;03m    Main entry: produce an ASCII tree of the chain that produced `t_or_ptr`.\u001b[39;00m\n\u001b[1;32m    102\u001b[0m \u001b[38;5;124;03m    Uses `lib.get_op_name()` to map the integer `expr.backward_func` -> string (\"add\", \"mul\", etc.).\u001b[39;00m\n\u001b[1;32m    103\u001b[0m \u001b[38;5;124;03m    \"\"\"\u001b[39;00m\n\u001b[0;32m--> 104\u001b[0m     all_lines \u001b[38;5;241m=\u001b[39m \u001b[43m_build_graph_lines\u001b[49m\u001b[43m(\u001b[49m\u001b[43mt_or_ptr\u001b[49m\u001b[43m)\u001b[49m\n\u001b[1;32m    105\u001b[0m     \u001b[38;5;28;01mreturn\u001b[39;00m \u001b[38;5;124m\"\u001b[39m\u001b[38;5;130;01m\\n\u001b[39;00m\u001b[38;5;124m\"\u001b[39m\u001b[38;5;241m.\u001b[39mjoin(all_lines)\n",
      "Cell \u001b[0;32mIn[5], line 78\u001b[0m, in \u001b[0;36m_build_graph_lines\u001b[0;34m(t_or_ptr, prefix, is_last, visited)\u001b[0m\n\u001b[1;32m     76\u001b[0m expr \u001b[38;5;241m=\u001b[39m expr_ptr\u001b[38;5;241m.\u001b[39mcontents\n\u001b[1;32m     77\u001b[0m \u001b[38;5;66;03m# Map the expr.backward_func to a C string via get_op_name\u001b[39;00m\n\u001b[0;32m---> 78\u001b[0m raw_name \u001b[38;5;241m=\u001b[39m \u001b[43mlemur\u001b[49m\u001b[38;5;241;43m.\u001b[39;49m\u001b[43mget_op_name\u001b[49m(expr\u001b[38;5;241m.\u001b[39mbackward_func)  \u001b[38;5;66;03m# returns char*\u001b[39;00m\n\u001b[1;32m     79\u001b[0m op_name \u001b[38;5;241m=\u001b[39m raw_name\u001b[38;5;241m.\u001b[39mdecode(\u001b[38;5;124m\"\u001b[39m\u001b[38;5;124mutf-8\u001b[39m\u001b[38;5;124m\"\u001b[39m) \u001b[38;5;28;01mif\u001b[39;00m raw_name \u001b[38;5;28;01melse\u001b[39;00m \u001b[38;5;124m\"\u001b[39m\u001b[38;5;124munknown_op\u001b[39m\u001b[38;5;124m\"\u001b[39m\n\u001b[1;32m     81\u001b[0m \u001b[38;5;66;03m# Show the operation as a child node\u001b[39;00m\n",
      "\u001b[0;31mAttributeError\u001b[0m: module 'lemur' has no attribute 'get_op_name'"
     ]
    }
   ],
   "source": [
    "print(plot_tensor_graph(d))"
   ]
  },
  {
   "cell_type": "code",
   "execution_count": null,
   "metadata": {},
   "outputs": [],
   "source": []
  }
 ],
 "metadata": {
  "kernelspec": {
   "display_name": "Python 3 (ipykernel)",
   "language": "python",
   "name": "python3"
  },
  "language_info": {
   "codemirror_mode": {
    "name": "ipython",
    "version": 3
   },
   "file_extension": ".py",
   "mimetype": "text/x-python",
   "name": "python",
   "nbconvert_exporter": "python",
   "pygments_lexer": "ipython3",
   "version": "3.13.1"
  }
 },
 "nbformat": 4,
 "nbformat_minor": 4
}
